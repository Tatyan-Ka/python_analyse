{
 "cells": [
  {
   "attachments": {},
   "cell_type": "markdown",
   "metadata": {},
   "source": [
    "#Условие 1:\n",
    "###Скачать данные по ссылке https://www.kaggle.com/datasets/esratmaria/house-price-dataset-with-other-information\n",
    "###Считать данные с помощью pandas\n",
    "###Вывести на экран первые 5 строк\n",
    "###Посмотреть на описание признаков и на их содержание"
   ]
  },
  {
   "cell_type": "code",
   "execution_count": 2,
   "metadata": {},
   "outputs": [],
   "source": [
    "import numpy as np\n",
    "import pandas as pd\n",
    "#источник данных https://drive.google.com/file/d/1s51PXE-FPdIfuch0bCSbKuKUT3vjvTfv/view?usp=share_link\n",
    "\n",
    "df = pd.read_csv('./kc_house_data.csv',sep=',')\n"
   ]
  },
  {
   "attachments": {},
   "cell_type": "markdown",
   "metadata": {},
   "source": [
    "#Условие 2: \n",
    "###Проведите первичный анализ данных\n",
    "###Изучите типы данных\n",
    "###Найдите количество пропущенных ячеек в данных\n",
    "###Посчитайте основные статистики по всем признакам и поизучайте их\n",
    "###Пишите выводы"
   ]
  },
  {
   "cell_type": "code",
   "execution_count": null,
   "metadata": {},
   "outputs": [],
   "source": []
  },
  {
   "attachments": {},
   "cell_type": "markdown",
   "metadata": {},
   "source": [
    "#Условие 3:\n",
    "###Ответьте на несколько вопросов\n",
    "####3.1 В каком диапазоне изменяются стоимости недвижимости?\n",
    "####3.2 Какую долю в среднем занимают жилая площадь от всей площади по всем ####домам?\n",
    "####3.3 Как много домов с разными этажами в данных?\n",
    "####3.4 Насколько хорошие состояния у домов в данных?\n",
    "####3.5 Найдите года, когда построили первый дом, когда построили последний дом в данных?"
   ]
  },
  {
   "cell_type": "code",
   "execution_count": null,
   "metadata": {},
   "outputs": [],
   "source": []
  },
  {
   "attachments": {},
   "cell_type": "markdown",
   "metadata": {},
   "source": [
    "#Условие 4: \n",
    "###Ответьте на несколько вопросов\n",
    "#####4.1 Сколько в среднем стоят дома, у которых 2 спальни?\n",
    "#####4.2 Какая в среднем общая площадь домов, у которых стоимость больше 600 000?\n",
    "#####4.3 Как много домов коснулся ремонт?\n",
    "#####4.4 Насколько в среднем стоимость домов с оценкой grade домов выше 10 отличается от стоимости домов с оценкой grade меньше 4?"
   ]
  },
  {
   "cell_type": "code",
   "execution_count": null,
   "metadata": {},
   "outputs": [],
   "source": []
  },
  {
   "attachments": {},
   "cell_type": "markdown",
   "metadata": {},
   "source": [
    "# Условие 5:\n",
    "###Ответьте на несколько вопросов\n",
    "#####5.1 Выберите дом клиенту\n",
    "Клиент хочет дом с видом на набережную, как минимум с тремя ванными и с подвалом. Сколько вариантов есть у клиента?\n",
    "#####5.2 Выберите дом клиенту\n",
    "Клиент хочет дом либо с очень красивым видом из окна, либо с видом на набережную, в очень хорошем состоянии и год постройки не меньше 1980 года. В какой ценовом диапазоне будут дома?\n",
    "#####5.3 Выберите дом клиенту\n",
    "Клиент хочет дом без подвала, с двумя этажами, стоимостью до 150000. Какая оценка по состоянию у таких домов в среднем?"
   ]
  },
  {
   "cell_type": "code",
   "execution_count": null,
   "metadata": {},
   "outputs": [],
   "source": []
  }
 ],
 "metadata": {
  "kernelspec": {
   "display_name": "Python 3",
   "language": "python",
   "name": "python3"
  },
  "language_info": {
   "codemirror_mode": {
    "name": "ipython",
    "version": 3
   },
   "file_extension": ".py",
   "mimetype": "text/x-python",
   "name": "python",
   "nbconvert_exporter": "python",
   "pygments_lexer": "ipython3",
   "version": "3.10.7"
  },
  "orig_nbformat": 4,
  "vscode": {
   "interpreter": {
    "hash": "0a86f528e1d34f1d74f46c552bdb2ee7c8f8085713c724d14b3d2344525e9ec9"
   }
  }
 },
 "nbformat": 4,
 "nbformat_minor": 2
}
